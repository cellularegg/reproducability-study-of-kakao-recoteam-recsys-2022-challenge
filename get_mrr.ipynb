{
 "cells": [
  {
   "cell_type": "code",
   "execution_count": null,
   "id": "initial_id",
   "metadata": {
    "collapsed": true,
    "is_executing": true
   },
   "outputs": [],
   "source": [
    "import pandas as pd\n",
    "import glob\n",
    "from scipy.stats import ttest_1samp\n",
    "import numpy as np"
   ]
  },
  {
   "cell_type": "code",
   "execution_count": null,
   "id": "ea37ba1fd4532f22",
   "metadata": {
    "collapsed": false
   },
   "outputs": [],
   "source": [
    "ground_truth = pd.read_csv('data/test_final_purchases.csv', delimiter=',')\n"
   ]
  },
  {
   "cell_type": "code",
   "execution_count": null,
   "id": "adc7584e0ef13c67",
   "metadata": {
    "collapsed": false
   },
   "outputs": [],
   "source": [
    "def get_mrr(predictions, ground_truth):\n",
    "    merged_df = pd.merge(ground_truth, predictions, on=['session_id', 'item_id'], how='left')\n",
    "\n",
    "    # Calculate the score\n",
    "    merged_df['score'] = 1 / merged_df['rank']\n",
    "\n",
    "    # Replace NaN scores with 0 (for cases where there was no matching item_id in predictions)\n",
    "    merged_df['score'].fillna(0, inplace=True)\n",
    "\n",
    "    # Convert the scores column to a list\n",
    "    return merged_df['score'].mean()"
   ]
  },
  {
   "cell_type": "code",
   "execution_count": null,
   "id": "1d702c40",
   "metadata": {},
   "outputs": [],
   "source": [
    "result_paths = glob.glob('save/submit.result-*')\n",
    "mrr_list = []\n",
    "for result_path in result_paths:\n",
    "    predictions = pd.read_csv(result_path, delimiter=',')\n",
    "    cur_mrr = get_mrr(predictions, ground_truth)\n",
    "    print(result_path, cur_mrr)\n",
    "    mrr_list.append(cur_mrr)"
   ]
  },
  {
   "cell_type": "code",
   "execution_count": null,
   "id": "b8278e10",
   "metadata": {},
   "outputs": [],
   "source": [
    "ttest_1samp(mrr_list, 0.1863)"
   ]
  },
  {
   "cell_type": "code",
   "execution_count": null,
   "id": "43d73f24",
   "metadata": {},
   "outputs": [],
   "source": [
    "ttest_1samp(mrr_list, 0.1863).confidence_interval(0.99)"
   ]
  },
  {
   "cell_type": "code",
   "execution_count": null,
   "id": "1ea05a71",
   "metadata": {},
   "outputs": [],
   "source": [
    "np.mean(mrr_list)"
   ]
  }
 ],
 "metadata": {
  "kernelspec": {
   "display_name": "Python 3",
   "language": "python",
   "name": "python3"
  },
  "language_info": {
   "codemirror_mode": {
    "name": "ipython",
    "version": 3
   },
   "file_extension": ".py",
   "mimetype": "text/x-python",
   "name": "python",
   "nbconvert_exporter": "python",
   "pygments_lexer": "ipython3",
   "version": "3.9.2"
  }
 },
 "nbformat": 4,
 "nbformat_minor": 5
}
